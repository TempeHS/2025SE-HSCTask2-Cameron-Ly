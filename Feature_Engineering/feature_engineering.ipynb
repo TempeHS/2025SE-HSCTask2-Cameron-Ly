{
 "cells": [
  {
   "cell_type": "markdown",
   "metadata": {},
   "source": [
    "[Home](../../README.md)\n",
    "\n",
    "### Feature Engineering\n",
    "\n",
    "This Jupyter Notebook demonstrates various feature engineering processes you can apply to your poker dataset to improve the performance of your machine learning model. For this demonstration, we will engineer new or improved features for the poker hand dataset you previously wrangled.\n",
    "\n",
    "#### Feature Engineering Process\n",
    "- **Deriving New Variables from Existing Ones**:\n",
    "    - Encoding categorical features (e.g., encoding suits numerically or one-hot encoding them).\n",
    "    - Combining ranks and suits into a single feature (e.g., encoding a card as a unique value based on its rank and suit).\n",
    "    - Calculating new features, such as the total rank sum, the number of cards with the same rank, or the number of cards with the same suit.\n",
    "\n",
    "- **Combining Features/Feature Interactions**:\n",
    "    - Creating features that represent poker hand strength (e.g., checking for pairs, flushes, straights, etc.).\n",
    "    - Identifying patterns in the cards, such as the highest card rank or the number of consecutive ranks.\n",
    "\n",
    "- **Transforming Features**:\n",
    "    - Normalizing or scaling numerical features (e.g., scaling ranks and suits to a range of 0 to 1).\n",
    "    - Applying mathematical transformations (e.g., logarithmic transformations) if necessary to reduce skewness or improve feature distribution.\n",
    "\n",
    "- **Creating Domain-Specific Features**:\n",
    "    - Incorporating poker-specific knowledge to create features that capture important characteristics of the data, such as:\n",
    "        - Whether the hand contains a flush (all cards of the same suit).\n",
    "        - Whether the hand contains a straight (consecutive ranks).\n",
    "        - The number of pairs, three-of-a-kinds, or four-of-a-kinds in the hand."
   ]
  },
  {
   "cell_type": "markdown",
   "metadata": {},
   "source": [
    "#### Load the required dependencies"
   ]
  },
  {
   "cell_type": "code",
   "execution_count": 2,
   "metadata": {},
   "outputs": [],
   "source": [
    "# Import frameworks\n",
    "import pandas as pd"
   ]
  },
  {
   "cell_type": "markdown",
   "metadata": {},
   "source": [
    "####  Store the data as a local variable\n",
    "\n",
    "The data frame is a Pandas object that structures your tabular data into an appropriate format. It loads the complete data in memory so it is now ready for preprocessing."
   ]
  },
  {
   "cell_type": "code",
   "execution_count": 3,
   "metadata": {},
   "outputs": [],
   "source": [
    "data_frame = pd.read_csv(\"poker_hand_dataset_wrangled_data.csv\")"
   ]
  },
  {
   "cell_type": "markdown",
   "metadata": {},
   "source": [
    "####  Deriving new variables from existing ones"
   ]
  },
  {
   "cell_type": "markdown",
   "metadata": {},
   "source": [
    "##### Encoding Categorical Variables\n",
    "\n",
    "Data encoding converts categorical data, such as suits of cards, into numerical format so that it can be used as input for machine learning algorithms. Most machine learning algorithms work with numbers and not with text or categorical variables.\n",
    "\n",
    "In this dataset, the suits of cards (`Suit of Card 1`, `Suit of Card 2`, etc.) are already represented numerically (e.g., 1 for Clubs, 2 for Diamonds, 3 for Hearts, 4 for Spades). However, if needed, we can further encode these values into other formats, such as one-hot encoding, to make them more suitable for certain algorithms.\n",
    "\n",
    "For example:\n",
    "- **Label Encoding**: Suits are already encoded as integers (1 to 4).\n",
    "- **One-Hot Encoding**: Each suit can be represented as a binary vector (e.g., `[1, 0, 0, 0]` for Clubs).\n"
   ]
  },
  {
   "cell_type": "code",
   "execution_count": 4,
   "metadata": {},
   "outputs": [],
   "source": [
    "# Count the number of unique ranks in the hand\n",
    "data_frame['Unique Ranks'] = data_frame[['Rank of Card 1', 'Rank of Card 2', 'Rank of Card 3', 'Rank of Card 4', 'Rank of Card 5']].apply(lambda row: len(set(row)), axis=1)\n",
    "\n",
    "# Count the number of unique suits in the hand\n",
    "data_frame['Unique Suits'] = data_frame[['Suit of Card 1', 'Suit of Card 2', 'Suit of Card 3', 'Suit of Card 4', 'Suit of Card 5']].apply(lambda row: len(set(row)), axis=1)"
   ]
  },
  {
   "cell_type": "markdown",
   "metadata": {},
   "source": [
    "##### Determining Poker Hand Type\n",
    "\n",
    "In poker, the type of hand (e.g., \"Flush\", \"Straight\", \"Full House\") determines its strength. This feature is critical for understanding the dataset and making predictions. We will calculate the type of poker hand based on the ranks and suits of the cards in the hand. The hand type will be added as a new column called `Hand Type`."
   ]
  },
  {
   "cell_type": "code",
   "execution_count": 5,
   "metadata": {},
   "outputs": [],
   "source": [
    "# Reverse scaling for rank columns (assuming min-max normalization)\n",
    "MIN_RANK = 1\n",
    "MAX_RANK = 13\n",
    "rank_columns = ['Rank of Card 1', 'Rank of Card 2', 'Rank of Card 3', 'Rank of Card 4', 'Rank of Card 5']\n",
    "\n",
    "# Reverse the scaling\n",
    "data_frame[rank_columns] = data_frame[rank_columns].apply(lambda x: (x * (MAX_RANK - MIN_RANK) + MIN_RANK).round().astype(int))"
   ]
  },
  {
   "cell_type": "code",
   "execution_count": 6,
   "metadata": {},
   "outputs": [],
   "source": [
    "# Function to determine the type of poker hand\n",
    "def determine_hand_type(row):\n",
    "    ranks = sorted([row['Rank of Card 1'], row['Rank of Card 2'], row['Rank of Card 3'], row['Rank of Card 4'], row['Rank of Card 5']])\n",
    "    suits = [row['Suit of Card 1'], row['Suit of Card 2'], row['Suit of Card 3'], row['Suit of Card 4'], row['Suit of Card 5']]\n",
    "    \n",
    "    # Check for Flush (all suits are the same)\n",
    "    is_flush = len(set(suits)) == 1\n",
    "    \n",
    "    # Check for Straight (consecutive ranks)\n",
    "    is_straight = ranks == list(range(ranks[0], ranks[0] + 5))\n",
    "    \n",
    "    # Count occurrences of each rank\n",
    "    rank_counts = {rank: ranks.count(rank) for rank in set(ranks)}\n",
    "    rank_count_values = sorted(rank_counts.values(), reverse=True)\n",
    "    \n",
    "    # Determine hand type\n",
    "    if is_flush and is_straight and ranks[-1] == 13:  # Royal Flush\n",
    "        return 'Royal Flush'\n",
    "    elif is_flush and is_straight:  # Straight Flush\n",
    "        return 'Straight Flush'\n",
    "    elif rank_count_values == [4, 1]:  # Four of a Kind\n",
    "        return 'Four of a Kind'\n",
    "    elif rank_count_values == [3, 2]:  # Full House\n",
    "        return 'Full House'\n",
    "    elif is_flush:  # Flush\n",
    "        return 'Flush'\n",
    "    elif is_straight:  # Straight\n",
    "        return 'Straight'\n",
    "    elif rank_count_values == [3, 1, 1]:  # Three of a Kind\n",
    "        return 'Three of a Kind'\n",
    "    elif rank_count_values == [2, 2, 1]:  # Two Pair\n",
    "        return 'Two Pair'\n",
    "    elif rank_count_values == [2, 1, 1, 1]:  # One Pair\n",
    "        return 'One Pair'\n",
    "    else:  # High Card\n",
    "        return 'High Card'"
   ]
  },
  {
   "cell_type": "code",
   "execution_count": 7,
   "metadata": {},
   "outputs": [],
   "source": [
    "# Ensure rank columns are integers\n",
    "rank_columns = ['Rank of Card 1', 'Rank of Card 2', 'Rank of Card 3', 'Rank of Card 4', 'Rank of Card 5']\n",
    "data_frame[rank_columns] = data_frame[rank_columns].fillna(0).astype(int)\n",
    "\n",
    "# Ensure suit columns are integers (if applicable)\n",
    "suit_columns = ['Suit of Card 1', 'Suit of Card 2', 'Suit of Card 3', 'Suit of Card 4', 'Suit of Card 5']\n",
    "data_frame[suit_columns] = data_frame[suit_columns].fillna(0).astype(int)"
   ]
  },
  {
   "cell_type": "code",
   "execution_count": 8,
   "metadata": {},
   "outputs": [
    {
     "name": "stdout",
     "output_type": "stream",
     "text": [
      "   Rank of Card 1  Rank of Card 2  Rank of Card 3  Rank of Card 4  \\\n",
      "0              12              11               2               3   \n",
      "1               5               5               8               6   \n",
      "2               2               3               3              11   \n",
      "3               6               9               2              12   \n",
      "4               3               9               9               3   \n",
      "\n",
      "   Rank of Card 5   Hand Type  \n",
      "0              10   High Card  \n",
      "1               2    One Pair  \n",
      "2               5    One Pair  \n",
      "3              12    One Pair  \n",
      "4               3  Full House  \n"
     ]
    }
   ],
   "source": [
    "# Apply the function to determine the hand type\n",
    "data_frame['Hand Type'] = data_frame.apply(determine_hand_type, axis=1)\n",
    "\n",
    "# Verify the first few rows\n",
    "print(data_frame[['Rank of Card 1', 'Rank of Card 2', 'Rank of Card 3', 'Rank of Card 4', 'Rank of Card 5', 'Hand Type']].head())"
   ]
  },
  {
   "cell_type": "code",
   "execution_count": 9,
   "metadata": {},
   "outputs": [
    {
     "name": "stdout",
     "output_type": "stream",
     "text": [
      "Hand Type\n",
      "One Pair           12213\n",
      "High Card           9700\n",
      "Flush               7801\n",
      "Two Pair            2054\n",
      "Three of a Kind     1347\n",
      "Full House           174\n",
      "Straight             101\n",
      "Four of a Kind        95\n",
      "Straight Flush        33\n",
      "Royal Flush            4\n",
      "Name: count, dtype: int64\n"
     ]
    }
   ],
   "source": [
    "# Display the unique hand types to verify correctness\n",
    "print(data_frame['Hand Type'].value_counts())"
   ]
  },
  {
   "cell_type": "markdown",
   "metadata": {},
   "source": [
    "#### Adding Hand Strength Feature\n",
    "\n",
    "To enhance the dataset, we are adding a new feature called `Hand Strength`. This feature assigns a numerical value to each poker hand type, where stronger hands (e.g., \"Royal Flush\") have higher values and weaker hands (e.g., \"High Card\") have lower values. This numerical representation can be useful for machine learning models or further analysis."
   ]
  },
  {
   "cell_type": "code",
   "execution_count": 10,
   "metadata": {},
   "outputs": [
    {
     "name": "stdout",
     "output_type": "stream",
     "text": [
      "    Hand Type  Hand Strength\n",
      "0   High Card              0\n",
      "1    One Pair              1\n",
      "2    One Pair              1\n",
      "3    One Pair              1\n",
      "4  Full House              6\n"
     ]
    }
   ],
   "source": [
    "# Map hand types to numerical strength\n",
    "hand_strength_mapping = {\n",
    "    'High Card': 0,\n",
    "    'One Pair': 1,\n",
    "    'Two Pair': 2,\n",
    "    'Three of a Kind': 3,\n",
    "    'Straight': 4,\n",
    "    'Flush': 5,\n",
    "    'Full House': 6,\n",
    "    'Four of a Kind': 7,\n",
    "    'Straight Flush': 8,\n",
    "    'Royal Flush': 9\n",
    "}\n",
    "\n",
    "# Add a new column for hand strength\n",
    "data_frame['Hand Strength'] = data_frame['Hand Type'].map(hand_strength_mapping)\n",
    "\n",
    "# Verify the new column\n",
    "print(data_frame[['Hand Type', 'Hand Strength']].head())"
   ]
  },
  {
   "cell_type": "markdown",
   "metadata": {},
   "source": [
    "#### Adding Actions Based on Hand Strength\n",
    "\n",
    "We are defining a new column, `Best Move`, which represents the recommended action for the player based on their hand strength. The actions are determined using the following rules:\n",
    "\n",
    "- **Fold**: For very weak hands (e.g., `Hand Strength` ≤ 1).\n",
    "- **Check**: For weak hands when no bet has been made (e.g., `Hand Strength` = 1).\n",
    "- **Call**: For medium-strength hands (e.g., `Hand Strength` between 2 and 5).\n",
    "- **Raise**: For strong hands (e.g., `Hand Strength` between 6 and 8).\n",
    "- **All-In**: For the strongest hands (e.g., `Hand Strength` = 9, \"Royal Flush\").\n",
    "\n",
    "This column will be used as the target variable for training a machine learning model to predict the best move."
   ]
  },
  {
   "cell_type": "code",
   "execution_count": 11,
   "metadata": {},
   "outputs": [
    {
     "name": "stdout",
     "output_type": "stream",
     "text": [
      "    Hand Type  Hand Strength  Fold  Check  Call  Raise  All-In\n",
      "0   High Card              0   0.8    0.2   0.0    0.0     0.0\n",
      "1    One Pair              1   0.3    0.5   0.2    0.0     0.0\n",
      "2    One Pair              1   0.3    0.5   0.2    0.0     0.0\n",
      "3    One Pair              1   0.3    0.5   0.2    0.0     0.0\n",
      "4  Full House              6   0.0    0.0   0.1    0.7     0.2\n"
     ]
    }
   ],
   "source": [
    "# Define action percentages based on hand strength\n",
    "def action_percentages(row):\n",
    "    if row['Hand Strength'] == 9:  # Royal Flush\n",
    "        return {'Fold': 0.0, 'Check': 0.0, 'Call': 0.0, 'Raise': 0.2, 'All-In': 0.8}\n",
    "    elif row['Hand Strength'] >= 6:  # Strong hands (Full House or better)\n",
    "        return {'Fold': 0.0, 'Check': 0.0, 'Call': 0.1, 'Raise': 0.7, 'All-In': 0.2}\n",
    "    elif row['Hand Strength'] >= 2:  # Medium-strength hands\n",
    "        return {'Fold': 0.1, 'Check': 0.1, 'Call': 0.6, 'Raise': 0.2, 'All-In': 0.0}\n",
    "    elif row['Hand Strength'] == 1:  # Weak hands but not folding\n",
    "        return {'Fold': 0.3, 'Check': 0.5, 'Call': 0.2, 'Raise': 0.0, 'All-In': 0.0}\n",
    "    else:  # Very weak hands\n",
    "        return {'Fold': 0.8, 'Check': 0.2, 'Call': 0.0, 'Raise': 0.0, 'All-In': 0.0}\n",
    "\n",
    "# Apply the function to calculate percentages for each action\n",
    "action_columns = ['Fold', 'Check', 'Call', 'Raise', 'All-In']\n",
    "data_frame[action_columns] = data_frame.apply(lambda row: pd.Series(action_percentages(row)), axis=1)\n",
    "\n",
    "# Verify the new columns\n",
    "print(data_frame[['Hand Type', 'Hand Strength'] + action_columns].head())"
   ]
  },
  {
   "cell_type": "markdown",
   "metadata": {},
   "source": [
    "#### Adding the `Max Rank Frequency` Feature\n",
    "\n",
    "The `Max Rank Frequency` feature identifies how many times the most frequent rank appears in the hand. This feature is useful for distinguishing between hands with repeated ranks (e.g., \"Four of a Kind,\" \"Three of a Kind,\" \"One Pair\") and hands with unique ranks (e.g., \"Straight,\" \"High Card\").\n",
    "\n",
    "- **Why it helps**: \n",
    "  - Helps the model understand the structure of the hand.\n",
    "  - Provides critical information for evaluating hands with repeated ranks.\n",
    "\n",
    "- **How it works**:\n",
    "  - For each hand, count how many times each rank appears.\n",
    "  - Take the maximum count as the `Max Rank Frequency`.\n",
    "\n",
    "- **Examples**:\n",
    "  - Hand: `[2, 2, 2, 5, 7]` → `Max Rank Frequency = 3` (Three of a Kind).\n",
    "  - Hand: `[3, 3, 5, 5, 9]` → `Max Rank Frequency = 2` (Two Pair).\n",
    "  - Hand: `[4, 6, 8, 10, 12]` → `Max Rank Frequency = 1` (High Card or Straight)."
   ]
  },
  {
   "cell_type": "code",
   "execution_count": 14,
   "metadata": {},
   "outputs": [
    {
     "name": "stdout",
     "output_type": "stream",
     "text": [
      "   Rank of Card 1  Rank of Card 2  Rank of Card 3  Rank of Card 4  \\\n",
      "0              12              11               2               3   \n",
      "1               5               5               8               6   \n",
      "2               2               3               3              11   \n",
      "3               6               9               2              12   \n",
      "4               3               9               9               3   \n",
      "\n",
      "   Rank of Card 5  Max Rank Frequency  \n",
      "0              10                   1  \n",
      "1               2                   2  \n",
      "2               5                   2  \n",
      "3              12                   2  \n",
      "4               3                   3  \n"
     ]
    }
   ],
   "source": [
    "# Calculate the maximum frequency of any rank in the hand\n",
    "data_frame['Max Rank Frequency'] = data_frame[['Rank of Card 1', 'Rank of Card 2', 'Rank of Card 3', 'Rank of Card 4', 'Rank of Card 5']].apply(\n",
    "    lambda row: max([list(row).count(rank) for rank in set(row)]), axis=1\n",
    ")\n",
    "\n",
    "# Verify the new column\n",
    "print(data_frame[['Rank of Card 1', 'Rank of Card 2', 'Rank of Card 3', 'Rank of Card 4', 'Rank of Card 5', 'Max Rank Frequency']].head())"
   ]
  },
  {
   "cell_type": "markdown",
   "metadata": {},
   "source": [
    "#### Save the wrangled and engineered data to CSV"
   ]
  },
  {
   "cell_type": "code",
   "execution_count": 18,
   "metadata": {},
   "outputs": [],
   "source": [
    "data_frame.to_csv('model_ready_data.csv', index=False)"
   ]
  }
 ],
 "metadata": {
  "kernelspec": {
   "display_name": "Python 3",
   "language": "python",
   "name": "python3"
  },
  "language_info": {
   "codemirror_mode": {
    "name": "ipython",
    "version": 3
   },
   "file_extension": ".py",
   "mimetype": "text/x-python",
   "name": "python",
   "nbconvert_exporter": "python",
   "pygments_lexer": "ipython3",
   "version": "3.12.1"
  }
 },
 "nbformat": 4,
 "nbformat_minor": 2
}
