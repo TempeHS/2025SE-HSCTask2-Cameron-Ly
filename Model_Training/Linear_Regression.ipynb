{
 "cells": [
  {
   "cell_type": "markdown",
   "metadata": {},
   "source": [
    "[Home](../../README.md)\n",
    "\n",
    "### Model Training - Linear Regression\n",
    "\n",
    "Linear regression is an algorithm that provides a linear relationship between an independent variable and a dependent variable to predict the outcome of future events. We will now Train a Linear regression algorithm on the features you have engineered to see how closely we can predict the health outcomes for individuals.\n"
   ]
  },
  {
   "cell_type": "markdown",
   "metadata": {},
   "source": [
    "#### Step 1\n",
    "\n",
    "Load the required dependencies:"
   ]
  },
  {
   "cell_type": "code",
   "execution_count": 4,
   "metadata": {},
   "outputs": [],
   "source": [
    "# Import frameworks\n",
    "import numpy as np\n",
    "import pandas as pd\n",
    "import matplotlib.pyplot as plt\n",
    "plt.style.use('/workspaces/2025SE-HSCTask2-Cameron-Ly/style_Matplotlib_charts.mplstyle')\n",
    "from sklearn.linear_model import LinearRegression\n",
    "import pickle"
   ]
  },
  {
   "cell_type": "markdown",
   "metadata": {},
   "source": [
    "#### Step 2\n",
    "\n",
    "Store the data columns for Linear Regression."
   ]
  },
  {
   "cell_type": "code",
   "execution_count": 6,
   "metadata": {},
   "outputs": [],
   "source": [
    "# Create a data frame from the csv file\n",
    "training_data = pd.read_csv('poker1-hand-training.csv')\n",
    "\n",
    "x_name = 'Player Bet Amount'\n",
    "y_name = 'Poker Hand'\n",
    "x = np.array(training_data[x_name]).reshape(-1, 1)\n",
    "y = np.array(training_data[y_name])"
   ]
  },
  {
   "cell_type": "markdown",
   "metadata": {},
   "source": [
    "#### Step 3\n",
    "\n",
    "Plot the feature `x` and target `y` data on a graph using the column headings as the graph labels."
   ]
  },
  {
   "cell_type": "code",
   "execution_count": 7,
   "metadata": {},
   "outputs": [
    {
     "data": {
      "image/png": "[encoded data removed]",
      "text/plain": [
       "<Figure size 640x480 with 1 Axes>"
      ]
     },
     "metadata": {},
     "output_type": "display_data"
    }
   ],
   "source": [
    "# Plot the data points\n",
    "plt.scatter(x, y, marker='x', c='r')\n",
    "# Set the title\n",
    "plt.title(\"Bets Based off Hands\")\n",
    "# Set the y-axis label\n",
    "plt.ylabel(f'Training {training_data[y_name].name}')\n",
    "# Set the x-axis label\n",
    "plt.xlabel(f'Training {training_data[x_name].name}')\n",
    "plt.show()"
   ]
  },
  {
   "cell_type": "markdown",
   "metadata": {},
   "source": [
    "#### Step 4\n",
    "\n",
    "Use the [Scikit-learn](https://scikit-learn.org/stable/) library to instantiate a Machine Learning model class and store it in the `my_model` variable as an object."
   ]
  },
  {
   "cell_type": "code",
   "execution_count": null,
   "metadata": {},
   "outputs": [],
   "source": [
    "# Create the model\n",
    "my_model = LinearRegression()\n",
    "# Fit the model to the data\n",
    "my_model.fit(x, y)"
   ]
  },
  {
   "cell_type": "markdown",
   "metadata": {},
   "source": [
    "#### Step 5\n",
    "\n",
    "Plot the features, targets and model (linear regression)."
   ]
  },
  {
   "cell_type": "code",
   "execution_count": null,
   "metadata": {},
   "outputs": [],
   "source": [
    "y_pred = my_model.predict(x)\n",
    "plt.scatter(x, y_pred)\n",
    "plt.scatter(x, y, marker='x', c='r')\n",
    "plt.title(\"Diabetes Disease Progress\")\n",
    "plt.ylabel(f'Training {training_data[y_name].name}')\n",
    "plt.xlabel(f'Training {training_data[x_name].name}')\n",
    "plt.show()"
   ]
  },
  {
   "cell_type": "code",
   "execution_count": null,
   "metadata": {},
   "outputs": [],
   "source": [
    "# save the model to disk\n",
    "filename = 'my_saved_model_v1.sav'\n",
    "pickle.dump(my_model, open('../2.4.Model_Testing_and_Validation/' + filename, 'wb'))"
   ]
  },
  {
   "cell_type": "markdown",
   "metadata": {},
   "source": [
    "#### Step 6. Evaluate the correlation of each feature\n",
    "Students should perform single feature linear regression on each feature and evaluate the score of the model to get a feel for which features correlate with the target."
   ]
  },
  {
   "cell_type": "markdown",
   "metadata": {},
   "source": [
    "#### Step 7. Multiple Variable Linear Regression\n",
    "\n",
    "You should be able to understand the code snippets with less guidelines."
   ]
  },
  {
   "cell_type": "code",
   "execution_count": null,
   "metadata": {},
   "outputs": [],
   "source": [
    "# Create a data frame from the csv file\n",
    "training_data = pd.read_csv('2.3.2.training_data.csv')\n",
    "\n",
    "x_name = ['BMI','BP','FDR']\n",
    "y_name = 'Target'\n",
    "x = np.array(training_data[x_name])\n",
    "y = np.array(training_data[y_name])"
   ]
  },
  {
   "cell_type": "code",
   "execution_count": null,
   "metadata": {},
   "outputs": [],
   "source": [
    "# plot predictions and targets vs original features    \n",
    "fig,ax=plt.subplots(1,len(x_name),figsize=(12,3),sharey=True)\n",
    "for i in range(len(ax)):\n",
    "    ax[i].scatter(x[:,i],y, label = 'target')\n",
    "    ax[i].set_xlabel(x_name[i])\n",
    "ax[0].set_ylabel(\"Target\"); ax[0].legend();\n",
    "fig.suptitle(\"Diabetes Disease Progress\")\n",
    "plt.show()"
   ]
  },
  {
   "cell_type": "code",
   "execution_count": null,
   "metadata": {},
   "outputs": [],
   "source": [
    "# Create the model\n",
    "my_model = LinearRegression()\n",
    "# Fit the model to the data\n",
    "my_model.fit(x, y)"
   ]
  },
  {
   "cell_type": "code",
   "execution_count": null,
   "metadata": {},
   "outputs": [],
   "source": [
    "# scatter plot predictions and targets vs original features    \n",
    "y_pred = my_model.predict(x)\n",
    "fig,ax=plt.subplots(1,len(x_name),figsize=(12,3),sharey=True)\n",
    "for i in range(len(ax)):\n",
    "    ax[i].scatter(x[:,i],y, label = 'target')\n",
    "    ax[i].set_xlabel(x_name[i])\n",
    "    ax[i].scatter(x[:,i],y_pred,color=\"orange\", label = 'predict')\n",
    "ax[0].set_ylabel(\"Target\"); ax[0].legend();\n",
    "fig.suptitle(\"Diabetes Disease Progress\")\n",
    "plt.show()"
   ]
  },
  {
   "cell_type": "code",
   "execution_count": null,
   "metadata": {},
   "outputs": [],
   "source": [
    "# save the model to disk\n",
    "filename = 'my_saved_model_v2.sav'\n",
    "pickle.dump(my_model, open('../2.4.Model_Testing_and_Validation/' + filename, 'wb'))"
   ]
  },
  {
   "cell_type": "markdown",
   "metadata": {},
   "source": [
    "#### Step 8. Explore differnet features\n",
    "\n",
    "Students should now use their acquired knowledge from step 6 to test and evaluate different feature combinations to produce a model with the best possible intuition."
   ]
  }
 ],
 "metadata": {
  "kernelspec": {
   "display_name": "Python 3",
   "language": "python",
   "name": "python3"
  },
  "language_info": {
   "codemirror_mode": {
    "name": "ipython",
    "version": 3
   },
   "file_extension": ".py",
   "mimetype": "text/x-python",
   "name": "python",
   "nbconvert_exporter": "python",
   "pygments_lexer": "ipython3",
   "version": "3.12.1"
  }
 },
 "nbformat": 4,
 "nbformat_minor": 2
}
