{
 "cells": [
  {
   "cell_type": "markdown",
   "metadata": {},
   "source": [
    "[Home](../../README.md)\n",
    "## Model Training - Poker Hand Strength & Action Prediction\n",
    "\n",
    "This project focuses on training a Logistic Regression model (or another regression model, depending on the setup) to predict poker actions such as **Fold**, **Check**, **Call**, **Raise**, and **All-in**. The predictions are based on features derived from poker hands, including card ranks, suits, and hand strength estimations.\n",
    "\n",
    "### Objectives\n",
    "\n",
    "1. Load the dataset containing features and corresponding actions.\n",
    "2. Train a Logistic Regression model to predict the probability of each action.\n",
    "3. Save the trained model for future use.\n",
    "\n",
    "### Context\n",
    "\n",
    "The goal is to predict the most likely actions a player will take based on the strength of their hand. Features include:\n",
    "\n",
    "- **Ranks** and **suits** of the cards.\n",
    "- Engineered features like **Hand Type**, **Hand Strength**, and **Max Rank Frequency**.\n"
   ]
  },
  {
   "cell_type": "markdown",
   "metadata": {},
   "source": [
    "#### Step 1\n",
    "\n",
    "Load the required dependencies:"
   ]
  },
  {
   "cell_type": "code",
   "execution_count": 9,
   "metadata": {},
   "outputs": [],
   "source": [
    "# Import necessary libraries\n",
    "import numpy as np\n",
    "import pandas as pd\n",
    "import pickle\n",
    "from sklearn.ensemble import RandomForestRegressor\n",
    "import matplotlib.pyplot as plt\n",
    "from sklearn.metrics import r2_score\n",
    "\n"
   ]
  },
  {
   "cell_type": "markdown",
   "metadata": {},
   "source": [
    "### Step 2: Define Input Features and Target Variables\n",
    "\n",
    "We select relevant features (e.g., hand strength, hand type) as inputs, and use the action probabilities (Fold, Check, Call, Raise, All-In) as multi-output targets."
   ]
  },
  {
   "cell_type": "code",
   "execution_count": 10,
   "metadata": {},
   "outputs": [
    {
     "name": "stdout",
     "output_type": "stream",
     "text": [
      "✅ Loaded training data:\n",
      "   Suit of Card 1  Suit of Card 2  Suit of Card 3  Suit of Card 4  \\\n",
      "0               0               1               0               0   \n",
      "1               0               0               0               0   \n",
      "2               0               0               1               0   \n",
      "3               0               0               1               1   \n",
      "4               0               0               1               0   \n",
      "\n",
      "   Suit of Card 5  Rank of Card 1  Rank of Card 2  Rank of Card 3  \\\n",
      "0               0               3               4               8   \n",
      "1               0              11               7              13   \n",
      "2               0               6               6              12   \n",
      "3               1               4               7               8   \n",
      "4               0              13               5              10   \n",
      "\n",
      "   Rank of Card 4  Rank of Card 5  Poker Hand  Unique Ranks  Unique Suits  \\\n",
      "0               8               3           3             3             4   \n",
      "1               6               3           4             5             3   \n",
      "2               9               5           1             4             4   \n",
      "3               2              11           0             5             3   \n",
      "4              11               3           0             5             3   \n",
      "\n",
      "   Hand Strength  Max Rank Frequency      Fold     Check      Call     Raise  \\\n",
      "0              2                   2  0.183151  0.625273  0.075016  0.098129   \n",
      "1              5                   1  0.053888  0.085388  0.363830  0.313798   \n",
      "2              1                   2  0.199302  0.586226  0.079683  0.120332   \n",
      "3              0                   1  0.206489  0.620010  0.055338  0.081038   \n",
      "4              0                   1  0.177895  0.642775  0.056717  0.083881   \n",
      "\n",
      "     All-In  \n",
      "0  0.018431  \n",
      "1  0.183097  \n",
      "2  0.014458  \n",
      "3  0.037126  \n",
      "4  0.038732  \n"
     ]
    }
   ],
   "source": [
    "training_data = pd.read_csv('training_data.csv')\n",
    "# Display to verify\n",
    "print(\"✅ Loaded training data:\")\n",
    "print(training_data.head())"
   ]
  },
  {
   "cell_type": "code",
   "execution_count": 11,
   "metadata": {},
   "outputs": [
    {
     "name": "stdout",
     "output_type": "stream",
     "text": [
      "✅ Feature matrix shape: (25141, 4)\n",
      "✅ Target matrix shape: (25141, 5)\n"
     ]
    }
   ],
   "source": [
    "# Define feature columns\n",
    "features = ['Hand Strength', 'Unique Ranks', 'Unique Suits', 'Max Rank Frequency']  # Add/remove features if needed\n",
    "\n",
    "# Define action probabilities as target\n",
    "target = ['Fold', 'Check', 'Call', 'Raise', 'All-In']\n",
    "\n",
    "# Split into input and output arrays\n",
    "X = training_data[features]\n",
    "y = training_data[target]\n",
    "\n",
    "print(\"✅ Feature matrix shape:\", X.shape)\n",
    "print(\"✅ Target matrix shape:\", y.shape)\n"
   ]
  },
  {
   "cell_type": "markdown",
   "metadata": {},
   "source": [
    "### Step 3: Train the Random Forest Regressor\n",
    "\n",
    "We use a **Random Forest Regressor** to predict action probabilities based on hand features. Random Forests handle non-linear relationships well and are ideal for tabular datasets like this.\n"
   ]
  },
  {
   "cell_type": "code",
   "execution_count": 12,
   "metadata": {},
   "outputs": [
    {
     "name": "stdout",
     "output_type": "stream",
     "text": [
      "✅ Model training complete.\n"
     ]
    }
   ],
   "source": [
    "\n",
    "# Initialize and train the model\n",
    "model = RandomForestRegressor(n_estimators=100, random_state=42)\n",
    "model.fit(X, y)\n",
    "\n",
    "print(\"✅ Model training complete.\")\n"
   ]
  },
  {
   "cell_type": "markdown",
   "metadata": {},
   "source": [
    "### Step 4: Evaluate Model on Training Data\n",
    "\n",
    "To understand how well the model fits the training data, we compute the **R² Score**. This tells us how much of the variance in the target variables (action probabilities) is explained by the features.\n",
    "\n",
    "Keep in mind, this is only an indication of how well the model fits **seen data** — true evaluation should be done on the test set (in another notebook).\n",
    "\n"
   ]
  },
  {
   "cell_type": "code",
   "execution_count": 13,
   "metadata": {},
   "outputs": [
    {
     "name": "stdout",
     "output_type": "stream",
     "text": [
      "✅ R² Scores on Training Data:\n",
      "Fold: 0.9102\n",
      "Check: 0.9811\n",
      "Call: 0.9607\n",
      "Raise: 0.9438\n",
      "All-In: 0.8732\n"
     ]
    }
   ],
   "source": [
    "\n",
    "# Predict on training data\n",
    "y_pred = model.predict(X)\n",
    "\n",
    "# Calculate R² score for each action\n",
    "r2_scores = {}\n",
    "for i, action in enumerate(target):\n",
    "    r2_scores[action] = r2_score(y[action], y_pred[:, i])\n",
    "\n",
    "# Print R² scores\n",
    "print(\"✅ R² Scores on Training Data:\")\n",
    "for action, score in r2_scores.items():\n",
    "    print(f\"{action}: {score:.4f}\")\n"
   ]
  },
  {
   "cell_type": "markdown",
   "metadata": {},
   "source": [
    "### Step 5: Visualize Model Performance \n",
    "\n",
    "We’ll use a bar chart to visualize the R² scores for each action. This gives us a quick, intuitive view of how well the model predicts each action’s probability based on the input features.\n"
   ]
  },
  {
   "cell_type": "code",
   "execution_count": 14,
   "metadata": {},
   "outputs": [
    {
     "data": {
      "image/png": "[encoded data removed]",
      "text/plain": [
       "<Figure size 800x500 with 1 Axes>"
      ]
     },
     "metadata": {},
     "output_type": "display_data"
    }
   ],
   "source": [
    "\n",
    "# Plot R² scores\n",
    "actions = list(r2_scores.keys())\n",
    "scores = list(r2_scores.values())\n",
    "\n",
    "plt.figure(figsize=(8, 5))\n",
    "plt.bar(actions, scores, color='skyblue')\n",
    "plt.title('R² Scores for Action Probabilities')\n",
    "plt.xlabel('Actions')\n",
    "plt.ylabel('R² Score')\n",
    "plt.ylim(0, 1)\n",
    "plt.grid(axis='y', linestyle='--', alpha=0.7)\n",
    "plt.tight_layout()\n",
    "plt.show()\n"
   ]
  },
  {
   "cell_type": "markdown",
   "metadata": {},
   "source": [
    "### Step 5: Save the Trained Model\n",
    "\n",
    "Now that the model is trained, we save it using `pickle` so that it can be reused later in testing or deployment without needing to retrain.\n"
   ]
  },
  {
   "cell_type": "code",
   "execution_count": 15,
   "metadata": {},
   "outputs": [
    {
     "name": "stdout",
     "output_type": "stream",
     "text": [
      "✅ Model saved as 'trained_model.pkl'\n"
     ]
    }
   ],
   "source": [
    "# Save the trained model\n",
    "with open('trained_model.pkl', 'wb') as f:\n",
    "    pickle.dump(model, f)\n",
    "\n",
    "print(\"✅ Model saved as 'trained_model.pkl'\")\n"
   ]
  }
 ],
 "metadata": {
  "kernelspec": {
   "display_name": "Python 3",
   "language": "python",
   "name": "python3"
  },
  "language_info": {
   "codemirror_mode": {
    "name": "ipython",
    "version": 3
   },
   "file_extension": ".py",
   "mimetype": "text/x-python",
   "name": "python",
   "nbconvert_exporter": "python",
   "pygments_lexer": "ipython3",
   "version": "3.12.1"
  }
 },
 "nbformat": 4,
 "nbformat_minor": 2
}
