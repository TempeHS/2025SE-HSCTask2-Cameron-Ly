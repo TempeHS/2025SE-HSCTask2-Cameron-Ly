{
 "cells": [
  {
   "cell_type": "markdown",
   "metadata": {},
   "source": [
    "# Training Model with Random Forest Regressor\n",
    "\n",
    "This notebook demonstrates how to train a **Random Forest Regressor** to predict poker action probabilities (`Fold`, `Check`, `Call`, `Raise`, `All-In`) based on features like `Hand Strength` and `Max Rank Frequency`.\n",
    "\n",
    "The goal is to:\n",
    "1. Train the model to predict action probabilities.\n",
    "2. Normalize the probabilities to ensure they sum to 1.\n",
    "3. Determine the best move for each hand based on the highest probability.\n",
    "4. Visualize the results to better understand the model's predictions."
   ]
  },
  {
   "cell_type": "markdown",
   "metadata": {},
   "source": [
    "## Dataset Preparation\n",
    "\n",
    "We use the `model_ready_data.csv` file, which contains:\n",
    "- **Features (`X`)**: Input features like `Hand Strength` and `Max Rank Frequency`.\n",
    "- **Target (`y`)**: Action probabilities (`Fold`, `Check`, `Call`, `Raise`, `All-In`).\n",
    "\n",
    "The dataset is loaded and prepared for training."
   ]
  },
  {
   "cell_type": "code",
   "execution_count": 15,
   "metadata": {},
   "outputs": [
    {
     "name": "stdout",
     "output_type": "stream",
     "text": [
      "Dataset Preview:\n",
      "   Suit of Card 1  Suit of Card 2  Suit of Card 3  Suit of Card 4  \\\n",
      "0               1               0               0               0   \n",
      "1               0               0               0               1   \n",
      "2               0               1               0               0   \n",
      "3               0               0               0               1   \n",
      "4               1               0               1               0   \n",
      "\n",
      "   Suit of Card 5  Rank of Card 1  Rank of Card 2  Rank of Card 3  \\\n",
      "0               0               7              10              12   \n",
      "1               0              12               2               3   \n",
      "2               1               3               6               6   \n",
      "3               1               8               2               2   \n",
      "4               0               3               3              13   \n",
      "\n",
      "   Rank of Card 4  Rank of Card 5  ...  Unique Ranks  Unique Suits  Hand Type  \\\n",
      "0               4               7  ...             4             3   One Pair   \n",
      "1               3               4  ...             4             3   One Pair   \n",
      "2               3              11  ...             3             3   Two Pair   \n",
      "3               5              11  ...             4             4   One Pair   \n",
      "4               8              10  ...             4             3   One Pair   \n",
      "\n",
      "  Hand Strength  Fold  Check  Call  Raise  All-In  Max Rank Frequency  \n",
      "0             1   0.3    0.5   0.2    0.0     0.0                   2  \n",
      "1             1   0.3    0.5   0.2    0.0     0.0                   2  \n",
      "2             2   0.1    0.1   0.6    0.2     0.0                   2  \n",
      "3             1   0.3    0.5   0.2    0.0     0.0                   2  \n",
      "4             1   0.3    0.5   0.2    0.0     0.0                   2  \n",
      "\n",
      "[5 rows x 21 columns]\n"
     ]
    }
   ],
   "source": [
    "# Load the dataset\n",
    "import pandas as pd\n",
    "\n",
    "data_frame = pd.read_csv('training_data.csv')\n",
    "\n",
    "# Define features (X) and target (y)\n",
    "features = ['Hand Strength', 'Max Rank Frequency']  # Add more features if needed\n",
    "target = ['Fold', 'Check', 'Call', 'Raise', 'All-In']\n",
    "\n",
    "X = data_frame[features]\n",
    "y = data_frame[target]\n",
    "\n",
    "# Display the first few rows of the dataset\n",
    "print(\"Dataset Preview:\")\n",
    "print(data_frame.head())"
   ]
  },
  {
   "cell_type": "markdown",
   "metadata": {},
   "source": [
    "## Model Training\n",
    "\n",
    "We use the **Random Forest Regressor** because:\n",
    "- It handles non-linear relationships well.\n",
    "- It works for multi-output regression (predicting probabilities for multiple actions).\n",
    "- It provides feature importance, which helps us understand the model.\n",
    "\n",
    "The model is trained on the entire dataset, and the training score (R²) is calculated to assess how well the model fits the data."
   ]
  },
  {
   "cell_type": "code",
   "execution_count": null,
   "metadata": {},
   "outputs": [
    {
     "name": "stdout",
     "output_type": "stream",
     "text": [
      "Training Score (R²): 0.9998205995137717\n",
      "Model saved as 'trained_model.pkl'\n"
     ]
    }
   ],
   "source": [
    "import pandas as pd\n",
    "from sklearn.ensemble import RandomForestRegressor\n",
    "import joblib  # For saving the trained model\n",
    "\n",
    "# Load the training dataset\n",
    "training_data = pd.read_csv('training_data.csv')\n",
    "\n",
    "# Define features (X) and target (y)\n",
    "features = ['Hand Strength', 'Max Rank Frequency']  # Add more features if needed\n",
    "target = ['Fold', 'Check', 'Call', 'Raise', 'All-In']\n",
    "\n",
    "X_train = training_data[features]\n",
    "y_train = training_data[target]\n",
    "\n",
    "# Initialize the Random Forest Regressor\n",
    "model = RandomForestRegressor(random_state=42, n_estimators=100)\n",
    "\n",
    "# Train the model on the training set\n",
    "model.fit(X_train, y_train)\n",
    "\n",
    "# Get the training score (R²)\n",
    "training_score = model.score(X_train, y_train)\n",
    "print(f\"Training Score (R²): {training_score}\")\n",
    "\n"
   ]
  },
  {
   "cell_type": "markdown",
   "metadata": {},
   "source": [
    "## Predictions and Normalization\n",
    "\n",
    "The model predicts action probabilities for each hand. Since the predicted probabilities may not naturally sum to 1, we normalize them to ensure they represent valid percentages."
   ]
  },
  {
   "cell_type": "code",
   "execution_count": 18,
   "metadata": {},
   "outputs": [
    {
     "name": "stdout",
     "output_type": "stream",
     "text": [
      "Normalized Predicted Probabilities:\n",
      "   Fold  Check  Call  Raise  All-In\n",
      "0   0.3    0.5   0.2    0.0     0.0\n",
      "1   0.3    0.5   0.2    0.0     0.0\n",
      "2   0.1    0.1   0.6    0.2     0.0\n",
      "3   0.3    0.5   0.2    0.0     0.0\n",
      "4   0.3    0.5   0.2    0.0     0.0\n"
     ]
    }
   ],
   "source": [
    "import numpy as np\n",
    "\n",
    "# Predict action probabilities\n",
    "y_pred = model.predict(X)\n",
    "\n",
    "# Normalize the predicted probabilities\n",
    "y_pred_normalized = np.clip(y_pred, 0, 1)  # Clip values to be between 0 and 1\n",
    "y_pred_normalized = y_pred_normalized / y_pred_normalized.sum(axis=1, keepdims=True)\n",
    "\n",
    "# Display the first few normalized predictions\n",
    "print(\"Normalized Predicted Probabilities:\")\n",
    "print(pd.DataFrame(y_pred_normalized, columns=target).head())"
   ]
  },
  {
   "cell_type": "markdown",
   "metadata": {},
   "source": [
    "## Best Move Prediction\n",
    "\n",
    "For each hand, the action with the highest probability is selected as the best move. This helps us determine the most likely optimal action for each scenario."
   ]
  },
  {
   "cell_type": "code",
   "execution_count": 19,
   "metadata": {},
   "outputs": [
    {
     "name": "stdout",
     "output_type": "stream",
     "text": [
      "Predicted Probabilities and Best Moves:\n",
      "   Fold Check  Call Raise All-In Best Move\n",
      "0  0.30  0.50  0.20  0.00   0.00     Check\n",
      "1  0.30  0.50  0.20  0.00   0.00     Check\n",
      "2  0.10  0.10  0.60  0.20   0.00      Call\n",
      "3  0.30  0.50  0.20  0.00   0.00     Check\n",
      "4  0.30  0.50  0.20  0.00   0.00     Check\n"
     ]
    },
    {
     "name": "stderr",
     "output_type": "stream",
     "text": [
      "/tmp/ipykernel_799/1018045715.py:10: FutureWarning: DataFrame.applymap has been deprecated. Use DataFrame.map instead.\n",
      "  results_df = results_df.applymap(lambda x: f\"{x:.2f}\" if isinstance(x, float) else x)\n"
     ]
    }
   ],
   "source": [
    "# Determine the best move for each row\n",
    "actions = target  # ['Fold', 'Check', 'Call', 'Raise', 'All-In']\n",
    "best_moves = [actions[np.argmax(row)] for row in y_pred_normalized]\n",
    "\n",
    "# Combine probabilities and best moves into a DataFrame\n",
    "results_df = pd.DataFrame(y_pred_normalized, columns=actions)\n",
    "results_df['Best Move'] = best_moves\n",
    "\n",
    "# Format probabilities to two decimal places\n",
    "results_df = results_df.applymap(lambda x: f\"{x:.2f}\" if isinstance(x, float) else x)\n",
    "\n",
    "# Display the first few rows of probabilities and best moves\n",
    "print(\"Predicted Probabilities and Best Moves:\")\n",
    "print(results_df.head())"
   ]
  },
  {
   "cell_type": "markdown",
   "metadata": {},
   "source": [
    "## Training Score\n",
    "\n",
    "The **training score** measures how well the model fits the training data. A higher score value (closer to 1.0) indicates a better fit. This score helps us assess the model's performance before visualizing the results."
   ]
  },
  {
   "cell_type": "code",
   "execution_count": 20,
   "metadata": {},
   "outputs": [
    {
     "name": "stdout",
     "output_type": "stream",
     "text": [
      "Training Accuracy: 100.00%\n"
     ]
    }
   ],
   "source": [
    "# Determine the actual best moves from the target probabilities\n",
    "actual_best_moves = [actions[np.argmax(row)] for row in y.values]\n",
    "\n",
    "# Calculate the training accuracy\n",
    "training_accuracy = np.mean(np.array(best_moves) == np.array(actual_best_moves))\n",
    "\n",
    "print(f\"Training Accuracy: {training_accuracy:.2%}\")"
   ]
  },
  {
   "cell_type": "code",
   "execution_count": null,
   "metadata": {},
   "outputs": [],
   "source": []
  },
  {
   "cell_type": "markdown",
   "metadata": {},
   "source": [
    "## Graphical Representations\n",
    "\n",
    "### 1. Feature Importance\n",
    "Visualizing feature importance helps us understand which features contribute the most to the model's predictions.\n",
    "\n",
    "### 2. Predicted Probabilities\n",
    "We visualize the predicted probabilities for a few rows to better understand the model's output."
   ]
  },
  {
   "cell_type": "code",
   "execution_count": null,
   "metadata": {},
   "outputs": [
    {
     "data": {
      "image/png": "[encoded data removed]",
      "text/plain": [
       "<Figure size 800x600 with 1 Axes>"
      ]
     },
     "metadata": {},
     "output_type": "display_data"
    },
    {
     "data": {
      "image/png": "[encoded data removed]",
      "text/plain": [
       "<Figure size 1000x600 with 1 Axes>"
      ]
     },
     "metadata": {},
     "output_type": "display_data"
    }
   ],
   "source": [
    "import matplotlib.pyplot as plt\n",
    "\n",
    "# Feature Importance\n",
    "feature_importance = model.feature_importances_\n",
    "plt.figure(figsize=(8, 6))\n",
    "plt.barh(features, feature_importance, color='skyblue')\n",
    "plt.xlabel('Importance')\n",
    "plt.ylabel('Features')\n",
    "plt.title('Feature Importance')\n",
    "plt.show()\n",
    "\n",
    "# Predicted Probabilities for the First 5 Rows\n",
    "predicted_df = pd.DataFrame(y_pred_normalized[:5], columns=target)\n",
    "predicted_df.plot(kind='bar', figsize=(10, 6))\n",
    "plt.title('Predicted Probabilities for First 5 Hands')\n",
    "plt.xlabel('Hand Index')\n",
    "plt.ylabel('Probability')\n",
    "plt.xticks(rotation=0)\n",
    "plt.legend(title='Actions')\n",
    "plt.show()"
   ]
  }
 ],
 "metadata": {
  "kernelspec": {
   "display_name": "Python 3",
   "language": "python",
   "name": "python3"
  },
  "language_info": {
   "codemirror_mode": {
    "name": "ipython",
    "version": 3
   },
   "file_extension": ".py",
   "mimetype": "text/x-python",
   "name": "python",
   "nbconvert_exporter": "python",
   "pygments_lexer": "ipython3",
   "version": "3.12.1"
  }
 },
 "nbformat": 4,
 "nbformat_minor": 2
}
