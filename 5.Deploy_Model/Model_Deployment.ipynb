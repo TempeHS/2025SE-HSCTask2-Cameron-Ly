{
 "cells": [
  {
   "cell_type": "markdown",
   "id": "5a78439c",
   "metadata": {},
   "source": [
    "## Model Deployment\n",
    "\n",
    "### Step 1\n",
    "Load the required dependencies including pickle the native Python library for serialising data objects"
   ]
  },
  {
   "cell_type": "code",
   "execution_count": 1,
   "id": "21ed72ad",
   "metadata": {},
   "outputs": [],
   "source": [
    "# Import frameworks\n",
    "import numpy as np\n",
    "import pandas as pd\n",
    "import matplotlib.pyplot as plt\n",
    "import pickle"
   ]
  },
  {
   "cell_type": "code",
   "execution_count": 2,
   "id": "9c572d0a",
   "metadata": {},
   "outputs": [
    {
     "name": "stdout",
     "output_type": "stream",
     "text": [
      "Model loaded successfully!\n"
     ]
    }
   ],
   "source": [
    "# Load the saved model from the file\n",
    "with open('trained_model.pkl', 'rb') as file:\n",
    "    model_A = pickle.load(file)\n",
    "\n",
    "print(\"Model loaded successfully!\")"
   ]
  }
 ],
 "metadata": {
  "kernelspec": {
   "display_name": "Python 3",
   "language": "python",
   "name": "python3"
  },
  "language_info": {
   "codemirror_mode": {
    "name": "ipython",
    "version": 3
   },
   "file_extension": ".py",
   "mimetype": "text/x-python",
   "name": "python",
   "nbconvert_exporter": "python",
   "pygments_lexer": "ipython3",
   "version": "3.12.1"
  }
 },
 "nbformat": 4,
 "nbformat_minor": 5
}
